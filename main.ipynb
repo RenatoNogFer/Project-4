{
 "cells": [
  {
   "cell_type": "markdown",
   "id": "4aced8b7",
   "metadata": {},
   "source": [
    "# Imports"
   ]
  },
  {
   "cell_type": "code",
   "execution_count": 1,
   "id": "a578b09c",
   "metadata": {},
   "outputs": [
    {
     "name": "stdout",
     "output_type": "stream",
     "text": [
      "Libraries imported successfully.\n"
     ]
    }
   ],
   "source": [
    "# Data manipulation libraries\n",
    "import pandas as pd\n",
    "import numpy as np\n",
    "\n",
    "# File and system libraries\n",
    "import gzip\n",
    "import shutil\n",
    "import os\n",
    "\n",
    "# Print a success message to confirm execution\n",
    "print(\"Libraries imported successfully.\")"
   ]
  },
  {
   "cell_type": "markdown",
   "id": "b016baa2",
   "metadata": {},
   "source": [
    "# Unzip"
   ]
  },
  {
   "cell_type": "code",
   "execution_count": 4,
   "id": "b10bd673",
   "metadata": {},
   "outputs": [
    {
     "name": "stdout",
     "output_type": "stream",
     "text": [
      "Decompressing 'C:\\\\Users\\\\renat\\\\Documents\\\\Neurotech\\\\Project-4\\\\base_antifraude.gz'...\n",
      "Success! File decompressed to 'base_antifraude.csv'\n"
     ]
    }
   ],
   "source": [
    "# --- Configuration ---\n",
    "gzipped_file_path = r'C:\\\\Users\\\\renat\\\\Documents\\\\Neurotech\\\\Project-4\\\\base_antifraude.gz'\n",
    "output_file_path = 'base_antifraude.csv'\n",
    "\n",
    "# Check if the compressed file exists before proceeding\n",
    "if not os.path.exists(gzipped_file_path):\n",
    "    print(f\"Error: The file '{gzipped_file_path}' was not found.\")\n",
    "else:\n",
    "    try:\n",
    "        print(f\"Decompressing '{gzipped_file_path}'...\")\n",
    "\n",
    "        with gzip.open(gzipped_file_path, 'rb') as f_in:\n",
    "            with open(output_file_path, 'wb') as f_out:\n",
    "                # Copy the decompressed content from the input to the output file\n",
    "                shutil.copyfileobj(f_in, f_out)\n",
    "        \n",
    "        print(f\"Success! File decompressed to '{output_file_path}'\")\n",
    "        \n",
    "    except Exception as e:\n",
    "        print(f\"An error occurred during decompression: {e}\")"
   ]
  }
 ],
 "metadata": {
  "kernelspec": {
   "display_name": "Project-4",
   "language": "python",
   "name": "python3"
  },
  "language_info": {
   "codemirror_mode": {
    "name": "ipython",
    "version": 3
   },
   "file_extension": ".py",
   "mimetype": "text/x-python",
   "name": "python",
   "nbconvert_exporter": "python",
   "pygments_lexer": "ipython3",
   "version": "3.13.5"
  }
 },
 "nbformat": 4,
 "nbformat_minor": 5
}
